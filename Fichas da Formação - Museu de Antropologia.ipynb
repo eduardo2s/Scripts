{
 "cells": [
  {
   "cell_type": "markdown",
   "metadata": {},
   "source": [
    "## Fichas da Formação - Museu de Antropologia\n",
    "- Extração de dados de documentos .docx"
   ]
  },
  {
   "cell_type": "markdown",
   "metadata": {},
   "source": [
    "# 1 - Primeira Etapa\n",
    "Para a estração foi feito uso de um script em python que identifica os documentos .docx e a partir dai extrai suas informações,\n",
    "uma vez que um documento do Word pode ser compreendido como um arquivo XML onde as informações estão comprimidas, o que o \n",
    "script faz é descompactar esses dados e gerar uma lista onde é feito o armazenamento e posteriormante é gerado um arquivo CSV,\n",
    "com todos os dados."
   ]
  },
  {
   "cell_type": "code",
   "execution_count": null,
   "metadata": {},
   "outputs": [],
   "source": [
    "# -*- coding: utf-8 -*-\n",
    "\"\"\"\n",
    "Created on Fri Jan 25 22:21:08 2019\n",
    "\n",
    "@author: eduardo\n",
    "\"\"\"\n",
    "import os\n",
    "teste = []\n",
    "\n",
    "try:\n",
    "    from xml.etree.cElementTree import XML\n",
    "except ImportError:\n",
    "    from xml.etree.ElementTree import XML\n",
    "import zipfile\n",
    "\n",
    "\n",
    "\"\"\"\n",
    "Module that extract text from MS XML Word document (.docx).\n",
    "(Inspired by python-docx <https://github.com/mikemaccana/python-docx>)\n",
    "\"\"\"\n",
    "\n",
    "WORD_NAMESPACE = '{http://schemas.openxmlformats.org/wordprocessingml/2006/main}'\n",
    "PARA = WORD_NAMESPACE + 'p'\n",
    "TEXT = WORD_NAMESPACE + 't'\n",
    "\n",
    "\n",
    "def get_docx_text(path):\n",
    "    \"\"\"\n",
    "    Take the path of a docx file as argument, return the text in unicode.\n",
    "    \"\"\"\n",
    "    document = zipfile.ZipFile(path)\n",
    "    xml_content = document.read('word/document.xml')\n",
    "    document.close()\n",
    "    tree = XML(xml_content)\n",
    "\n",
    "    paragraphs = []\n",
    "    for paragraph in tree.getiterator(PARA):\n",
    "        texts = [node.text\n",
    "                 for node in paragraph.getiterator(TEXT)\n",
    "                 if node.text]\n",
    "        if texts:\n",
    "            paragraphs.append(''.join(texts))\n",
    "\n",
    "    return '\\n'.join(paragraphs)\n",
    "\n",
    "\n",
    "for root, dirs, files in os.walk(os.path.abspath(\"C:\\\\Users\\\\eduar\\\\Desktop\\\\fichas ufg\\\\\")):\n",
    "    for file in files:\n",
    "        teste.append(get_docx_text(os.path.join(root, file)))\n",
    "        \n",
    "import csv\n",
    "\n",
    "with open('C:\\\\Users\\\\eduar\\\\Desktop\\\\fichas ufg\\\\itens.csv', 'w', encoding=\"utf-8\") as myfile:\n",
    "     wr = csv.writer(myfile, quoting=csv.QUOTE_MINIMAL)\n",
    "     #wr.writerows(teste)\n",
    "     for val in teste:\n",
    "        wr.writerow([val])    \n",
    "    "
   ]
  },
  {
   "cell_type": "markdown",
   "metadata": {},
   "source": [
    "Link de referência para o código: http://etienned.github.io/posts/extract-text-from-word-docx-simply/"
   ]
  },
  {
   "cell_type": "markdown",
   "metadata": {},
   "source": [
    "# 2 - Segunda Etapa\n",
    "Uma vez que temos todo o texto de cada um dos arquivos em uma linha do arquivo CSV gerado, passamos ao tratamento, aqui foi feito\n",
    "o uso do Notepad++ o qual facilita a visualização te todo o conteúdo do CSV, a partir desse ponto, foram retirado espaços indesejados,\n",
    "verificação e correção de textos ou nome de metadados repetidos de forma diferente, como \"Nº. item\" e \"No. item\", além da retirada do\n",
    "delimitador de conteúdo do CSV, normalmente as aspas \"\", isso faz com que ao invés de todo o texto ficar numa linha, cada linha do texto\n",
    "se torne uma linha no CSV de acordo com a quebra de linha. \n",
    "\n",
    "Feito isso é preciso abrir os dados novamente no excel e efetuar verificações para achar repetições, uma vez que todo os metadados tem\n",
    "seus nome apresentados antes de ':', fez-se o uso desses ':' para separar os dados dentro do arquivo CSV (normalmente se usar ; ou ,).\n",
    "\n",
    "Esse processo se repete até todos os dados estarem organizados e por fim, mais uma vez Notepad++ o delimitador de texto ':' é alterado\n",
    "para outro simbolo de forma que não afete o texto.\n",
    " "
   ]
  },
  {
   "cell_type": "markdown",
   "metadata": {},
   "source": [
    "# 3 - Terceira Etapa\n",
    "Após o tratamento, são obtidas duas colunas (Metadados; Conteúdo), os metadados se repetem para cada um dos itens, ou seja, na coluna metadados temos várias linhas com o nome \"Descrição\" etc, para contornar isso, podemos utilizar uma função de indice do Excel, onde todos os dados serão agrupados de acordo com o texto da coluna Metadados.\n",
    "\n",
    "Nesse tratamento foi usado uma Macro, o que facilita o processo."
   ]
  },
  {
   "cell_type": "code",
   "execution_count": null,
   "metadata": {},
   "outputs": [],
   "source": [
    "Como utilizar:\n",
    "    1 - Com o excel aberto aperte ALT+F11, isso irá abrir o Microsoft Visual Basic for Applications\n",
    "    2 - Clique em Inserir>Modulo, e cole o Código Abaixo na janela Modulo.\n",
    "\n",
    "Sub transposeunique()\n",
    "'updateby Extendoffice 20151207\n",
    "    Dim xLRow As Long\n",
    "    Dim i As Long\n",
    "    Dim xCrit As String\n",
    "    Dim xCol  As New Collection\n",
    "    Dim xRg As Range\n",
    "    Dim xOutRg As Range\n",
    "    Dim xTxt As String\n",
    "    Dim xCount As Long\n",
    "    Dim xVRg As Range\n",
    "    On Error Resume Next\n",
    "    xTxt = ActiveWindow.RangeSelection.Address\n",
    "    Set xRg = Application.InputBox(\"please select data range(only two columns):\", \"Kutools for Excel\", xTxt, , , , , 8)\n",
    "    Set xRg = Application.Intersect(xRg, xRg.Worksheet.UsedRange)\n",
    "    If xRg Is Nothing Then Exit Sub\n",
    "    If (xRg.Columns.Count <> 2) Or _\n",
    "       (xRg.Areas.Count > 1) Then\n",
    "        MsgBox \"the used range is only one area with two columns \", , \"Kutools for Excel\"\n",
    "        Exit Sub\n",
    "    End If\n",
    "    Set xOutRg = Application.InputBox(\"please select output range(specify one cell):\", \"Kutools for Excel\", xTxt, , , , , 8)\n",
    "    If xOutRg Is Nothing Then Exit Sub\n",
    "    Set xOutRg = xOutRg.Range(1)\n",
    "    xLRow = xRg.Rows.Count\n",
    "    For i = 2 To xLRow\n",
    "        xCol.Add xRg.Cells(i, 1).Value, xRg.Cells(i, 1).Value\n",
    "    Next\n",
    "    Application.ScreenUpdating = False\n",
    "    For i = 1 To xCol.Count\n",
    "        xCrit = xCol.Item(i)\n",
    "        xOutRg.Offset(i, 0) = xCrit\n",
    "        xRg.AutoFilter Field:=1, Criteria1:=xCrit\n",
    "        Set xVRg = xRg.Range(\"B2:B\" & xLRow).SpecialCells(xlCellTypeVisible)\n",
    "        If xVRg.Count > xCount Then xCount = xVRg.Count\n",
    "        xRg.Range(\"B2:B\" & xLRow).SpecialCells(xlCellTypeVisible).Copy\n",
    "        xOutRg.Offset(i, 1).PasteSpecial Paste:=xlPasteAll, Operation:=xlNone, SkipBlanks:=False, Transpose:=True\n",
    "        Application.CutCopyMode = False\n",
    "    Next\n",
    "    xOutRg = xRg.Cells(1, 1)\n",
    "    xOutRg.Offset(0, 1).Resize(1, xCount) = xRg.Cells(1, 2)\n",
    "    xRg.Rows(1).Copy\n",
    "    xOutRg.Resize(1, xCount + 1).PasteSpecial Paste:=xlPasteFormats\n",
    "    xRg.AutoFilter\n",
    "    Application.ScreenUpdating = True\n",
    "End Sub\n",
    "\n",
    "    3 - Pressione F5 para executar, uma pequena janela de seleção será aberta, selecione as colunas com os dados, nesse caso (Metadados e Conteúdo)\n",
    "    4 - Clique em OK e selecione a celula onde os novos dados irão aparece, clique em OK."
   ]
  },
  {
   "cell_type": "markdown",
   "metadata": {},
   "source": [
    "# 4 - Quarta Etapa\n",
    "Nessa etapa é feita a transformação dos dados, assim que terminar a etapa 3, terá uma tabela com diversas colunas e todos os dados,\n",
    "com base nos metadados, para transformá-los, selecione todas as linhas e colunas geradas pela etapa anterior.\n",
    "\n",
    "1. Vá até a aba Dados>Da tabela/intervalo, isso irá abrir uma nova janela do excel.\n",
    "2. Vá ná aba Transformar>Transpor, isso irá tirar os metadados das linhas e coloca-los como colunas.\n",
    "3. Volte para aba Base>Fechar & Carregar.\n",
    "\n",
    "feito isso os dados estão prontos, para serem revisados e inseridos no Tainacan."
   ]
  }
 ],
 "metadata": {
  "kernelspec": {
   "display_name": "Python 3",
   "language": "python",
   "name": "python3"
  },
  "language_info": {
   "codemirror_mode": {
    "name": "ipython",
    "version": 3
   },
   "file_extension": ".py",
   "mimetype": "text/x-python",
   "name": "python",
   "nbconvert_exporter": "python",
   "pygments_lexer": "ipython3",
   "version": "3.7.0"
  }
 },
 "nbformat": 4,
 "nbformat_minor": 2
}
